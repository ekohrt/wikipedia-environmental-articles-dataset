{
  "nbformat": 4,
  "nbformat_minor": 0,
  "metadata": {
    "colab": {
      "name": "Wikipedia_Env_Articles_Dataset.ipynb",
      "provenance": [],
      "collapsed_sections": []
    },
    "kernelspec": {
      "name": "python3",
      "display_name": "Python 3"
    },
    "language_info": {
      "name": "python"
    }
  },
  "cells": [
    {
      "cell_type": "markdown",
      "source": [
        "# Collect 1,397 Environment-Related Wikipedia Articles\n",
        "This notebook uses the Wikipedia API to download the contents of 1,397 articles related to environmental issues. The list of pages can be found here:\n",
        "https://en.wikipedia.org/wiki/Index_of_environmental_articles\n"
      ],
      "metadata": {
        "id": "A_UsJcU0mZS5"
      }
    },
    {
      "cell_type": "code",
      "execution_count": null,
      "metadata": {
        "colab": {
          "base_uri": "https://localhost:8080/"
        },
        "id": "VLoyIEjWmYps",
        "outputId": "01f86094-f8b5-494d-e9db-9e08ac819810"
      },
      "outputs": [
        {
          "output_type": "stream",
          "name": "stdout",
          "text": [
            "Looking in indexes: https://pypi.org/simple, https://us-python.pkg.dev/colab-wheels/public/simple/\n",
            "Collecting wikipedia\n",
            "  Downloading wikipedia-1.4.0.tar.gz (27 kB)\n",
            "Requirement already satisfied: beautifulsoup4 in /usr/local/lib/python3.7/dist-packages (from wikipedia) (4.6.3)\n",
            "Requirement already satisfied: requests<3.0.0,>=2.0.0 in /usr/local/lib/python3.7/dist-packages (from wikipedia) (2.23.0)\n",
            "Requirement already satisfied: chardet<4,>=3.0.2 in /usr/local/lib/python3.7/dist-packages (from requests<3.0.0,>=2.0.0->wikipedia) (3.0.4)\n",
            "Requirement already satisfied: idna<3,>=2.5 in /usr/local/lib/python3.7/dist-packages (from requests<3.0.0,>=2.0.0->wikipedia) (2.10)\n",
            "Requirement already satisfied: urllib3!=1.25.0,!=1.25.1,<1.26,>=1.21.1 in /usr/local/lib/python3.7/dist-packages (from requests<3.0.0,>=2.0.0->wikipedia) (1.24.3)\n",
            "Requirement already satisfied: certifi>=2017.4.17 in /usr/local/lib/python3.7/dist-packages (from requests<3.0.0,>=2.0.0->wikipedia) (2022.6.15)\n",
            "Building wheels for collected packages: wikipedia\n",
            "  Building wheel for wikipedia (setup.py) ... \u001b[?25l\u001b[?25hdone\n",
            "  Created wheel for wikipedia: filename=wikipedia-1.4.0-py3-none-any.whl size=11695 sha256=fcba47c22f8282ff340e6b6dfec9b0e1e7b86e0010e2a31ff3a6aa7448c97e0d\n",
            "  Stored in directory: /root/.cache/pip/wheels/15/93/6d/5b2c68b8a64c7a7a04947b4ed6d89fb557dcc6bc27d1d7f3ba\n",
            "Successfully built wikipedia\n",
            "Installing collected packages: wikipedia\n",
            "Successfully installed wikipedia-1.4.0\n"
          ]
        }
      ],
      "source": [
        "!pip install wikipedia"
      ]
    },
    {
      "cell_type": "code",
      "source": [
        "from google.colab import drive\n",
        "drive.mount('/content/drive')"
      ],
      "metadata": {
        "colab": {
          "base_uri": "https://localhost:8080/"
        },
        "id": "t_8KWVPGooOj",
        "outputId": "05de7577-f6b7-4ccd-95c6-acb9e812ee8e"
      },
      "execution_count": 34,
      "outputs": [
        {
          "output_type": "stream",
          "name": "stdout",
          "text": [
            "Drive already mounted at /content/drive; to attempt to forcibly remount, call drive.mount(\"/content/drive\", force_remount=True).\n"
          ]
        }
      ]
    },
    {
      "cell_type": "code",
      "source": [
        "import wikipedia\n",
        "article_titles = wikipedia.page(\"Index_of_environmental_articles\").links\n",
        "print(f\"There are {len(article_titles)} articles:\", article_titles)"
      ],
      "metadata": {
        "colab": {
          "base_uri": "https://localhost:8080/"
        },
        "id": "CHj8YHLSsrP5",
        "outputId": "3f78475a-41fd-4697-abe5-7c9ce4f60d48"
      },
      "execution_count": null,
      "outputs": [
        {
          "output_type": "stream",
          "name": "stdout",
          "text": [
            "There are 1408 articles: ['100,000-year problem', '2005 Malaysian haze', '2006 Abule Egba pipeline explosion', '2006 Alaskan oil spill', '2006 Argentine nuclear reactivation plan', '2006 Atlas Creek pipeline explosion', \"2006 Côte d'Ivoire toxic waste spill\", '2006 Danvers Chemical Fire', '2006 Mumbai \"sweet\" seawater incident', '2006 Southeast Asian haze', '2006 Zakouma elephant slaughter', '2007 Korea oil spill', '2010 Biodiversity Indicators Partnership', '2010 Biodiversity Target', '4 Degrees and Beyond International Climate Conference', 'Acid mine drainage', 'Acid rain', 'Adsorption Method for Sampling of Dioxins and Furans', 'Aegean Sea (oil spill)', 'Agency of Nuclear Projects', 'Agenda 21', 'Agreed Measures for the Conservation of Antarctic Fauna and Flora', 'Agreement on the Application of Sanitary and Phytosanitary Measures', 'Agreement on the Conservation of Albatrosses and Petrels', 'Agricultural biodiversity', 'Air', 'Air engine', 'Air pollution', 'Air quality index', 'Alarmism', 'Alternative fuel', 'Alternative fuel vehicle', 'An Essay on the Principle of Population', 'An Inconvenient Truth', 'Ancient Woodland', 'Antarctic Treaty System', 'Arctic Climate Impact Assessment', 'Arctic National Wildlife Refuge', 'Arctic Refuge drilling controversy', 'Arctic Waters Pollution Prevention Act', 'Area of Outstanding Natural Beauty', 'Asian brown cloud', 'Atmosphere', 'Atmospheric Model Intercomparison Project', 'Atmospheric dispersion modeling', 'Atomic bombings of Hiroshima and Nagasaki', 'Automobile emissions control', 'Aviation Environment Federation', 'Aviation and climate change', 'Aviation and the environment', 'Aytzim', 'Bali Communiqué', 'Bali roadmap', 'Basel Convention', 'Bees and toxic chemicals', 'Beetle bank', 'Bering Sea Arbitration', 'Bhopal disaster', 'Bicycle-friendly', 'Big Green Gathering', 'Bike lane debate', 'Bikini atomic experiments', 'Bin bag', 'BioBlitz', 'BioHome', 'Bioaccumulation', 'Biochemical oxygen demand', 'Biodegradability prediction', 'Biodegradation', 'Biodesign Institute', 'Biodiesel', 'Biodiesel recipe', 'Biodigester', 'Biodiversity', 'Biodiversity Action Plan', 'Biodiversity hotspot', 'Biodynamic agriculture', 'Biodynamic wine', 'Bioethics', 'Biofilter', 'Biofouling', 'Biofuel', 'Biogas', 'Biogeographic realm', 'Bioherbicide', 'Bioindicator', 'Biointensive', 'Bioirrigation', 'Bioleaching', 'Biological Dynamics of Forest Fragments Project', 'Biological Wastewater Processor', 'Biological Weapons Convention', 'Biological agent', 'Biological engineering', 'Biological fuel cell', 'Biological hazard', 'Biological pest control', 'Biological warfare', 'Biomass gasification', 'Biomass to liquid', 'Biomethanation', 'Bionanotechnology', 'Bioneers', 'Bionics', 'Biopiracy', 'Bioplastic', 'Biopreparat', 'Bioprospecting', 'Biorefinery', 'Bioregional democracy', 'Bioremediation', 'Biosafety', 'Biosafety level', 'Biosecurity', 'Biosecurity protocol', 'Biosignature', 'Biosolids', 'Biosphere', 'Biosphere 2', 'Biosphere reserve', 'Biostasis', 'Biostatistics', 'Biostimulation', 'Bioswale', 'Biotechnology', 'Biotechnology and Biological Sciences Research Council', 'Bioterror', 'Bioterrorism', 'Bioturbation', 'Blast fishing', 'Blue-ice area', 'Blue ice (aircraft)', 'Bonn Agreement (environment)', 'Bottom fishing', 'Bottom trawling', 'Breeding Bird Survey', 'Brominated flame-retardant', 'Buffalo Commons', 'Buffer zone', 'Built environment', 'Bureau of Oceans and International Environmental and Scientific Affairs', 'Bush regeneration', 'Bushmeat', 'Buy Nothing Day', 'By-catch', 'Cadmium poisoning', 'Callendar effect', 'Calnev Pipeline', 'Cancer', 'Cancer Alley', 'Car-free movement', 'Car-free zone', 'Car Free Days', 'Carbofuran', 'Carbon audit regime', 'Carbon credit', 'Carbon cycle', 'Carbon dioxide sink', 'Carbon emissions trading', 'Carbon fixation', 'Carbon flux', 'Carbon footprint', 'Carbon intensity', 'Carbon offset', 'Carbon sequestering', 'Carbon tax', 'Carbon tetrachloride', 'Carfree Cities', 'Carl Garner Federal Lands Cleanup Day', 'Carpool', 'Carrying capacity', 'Cartagena Protocol on Biosafety', 'Catch and release', 'Certified wood', 'Cetacean Conservation Center', 'Cetacean bycatch', 'Charles Darwin Foundation', 'Chartered Institute of Environmental Health', 'Chemical Weapons Convention', 'Chemical oxygen demand', 'Chemical toilet', 'Chemical warfare', 'Chemical waste', 'Chemical weapon designation', 'Chemical weapon proliferation', 'Cherenkov radiation', 'Chernobyl2020', 'Chernobyl accident', 'Chicago Climate Exchange', \"Children's Environmental Exposure Research Study\", 'China Australia Migratory Bird Agreement', 'Chionophile', 'Chipko movement', 'Chlorofluorocarbon', 'Citizen Information Project', 'Citizens for Alternatives to Chemical Contamination', 'Citizens for Global Solutions', 'City Beautiful movement', 'Clark County Wetlands Park', 'Clean Air Act (1970)', 'Clean Air Act (1990)', 'Clean Air Act (disambiguation)', 'Clean Air Act 1956', 'Clean Development Mechanism', 'Clean Up Australia', 'Clean Water Act', 'Clear Skies Act', 'Clearfelling', 'Climate', 'Climate Audit', 'Climate Diagnostics Center', 'Climate Group', 'Climate Monitoring and Diagnostics Laboratory', 'Climate change', 'Climate changes of 535-536', 'Climate commitment studies', 'Climate engineering', 'Climate house', 'Climate model', 'Climate modeller', 'Climate sensitivity', 'Climate surprise', 'Climatic determinism', 'Clinton Global Initiative', 'Cloaca Maxima', 'Cloud forcing', 'Coal pollution mitigation', 'Coastal Zone Management Act', 'Cogeneration', 'Committee on Climate Change Science and Technology Integration', 'Common alcohol fuel mixtures', 'Community Climate System Model', 'Community Fisheries Control Agency', 'Community Forests in England', 'Community bicycle program', 'Community garden', 'Community gardening', 'Compact fluorescent lamp', 'Compactor', 'Compost', 'Compost windrow turner', 'Composting toilet', 'Comprehensive Test Ban Treaty', 'Comprehensive Test Ban Treaty Organization', 'Compressed air energy storage', 'Computer Conservation Society', 'Computer recycling', 'Concrete recycling', 'Conservation Authorities Act', 'Conservation Centre Liverpool', 'Conservation Halton', 'Conservation Law Foundation', 'Conservation agriculture', 'Conservation and Research Center', 'Conservation area', 'Conservation areas in Singapore', 'Conservation areas of Portugal', 'Conservation authority (Canada)', 'Conservation biology', 'Conservation community', 'Conservation designation', 'Conservation district', 'Conservation easement', 'Conservation ethic', 'Conservation genetics', 'Conservation headland', 'Conservation medicine', 'Conservation movement', 'Conservation park (disambiguation)', 'Conservation status', 'Conservation status (TNC)', 'Constellation Observing System for Meteorology, Ionosphere, and Climate', 'Constructed wetland', 'Consumerism', 'Container composting', 'Cooler Heads Coalition', 'Coral bleaching', 'Country park', 'Countryside Agency', 'Countryside Commission', 'Countryside and Rights of Way Act 2000', 'Critical Mass (cycling)', 'Critical Mass Energy Project', 'Current Population Survey', 'Cycling advocacy', 'DDT', 'Dark-sky movement', 'Darrieus wind turbine', 'Dartmoor tin-mining', 'David Suzuki Foundation', 'Dead tree edition', 'Dead zone (ecology)', 'Deaerator', 'Debt-for-Nature Swap', 'Decomposer', 'Deconstruction (building)', 'Decontamination', 'Decontamination foam', 'Deep ecology', 'Deforestation', 'Delay-action bomb', 'Delayed nuclear radiation', 'Denitrification', 'Dental amalgam controversy', 'Denudation', 'Depleted uranium', 'Desalination', 'Desert Biosphere Reserve and Experimental Range', 'Desert National Wildlife Refuge', 'Desert National Wildlife Refuge Complex', 'Desertification', 'Developed country', 'Dingo Fence', 'Dioxins and dioxin-like compounds', 'Direct-methanol fuel cell', 'Directive on the patentability of biotechnological inventions', 'Director of Agriculture, Fisheries and Conservation', 'Directorate-General for the Environment (European Commission)', 'Discovery of ozone depletion', 'Diseases of affluence', 'Distributed energy', 'District heating', 'Do not feed the animals', 'Dolly the sheep', 'Dolphin drive hunting', 'Domestic water recycling', 'Dongzhou protests of 2005', 'Doomsday Clock', 'Double-hulled tanker', 'Dredging', 'Drift mining', 'Drift net', 'Driftless Area National Wildlife Refuge', 'Driftless Zone', 'Drinking water', 'Drip irrigation', 'Drought', 'Drum line (shark control)', 'Dry well', 'Dual mode transit', 'Dual piping', 'Dugout (shelter)', 'Dujiangyan Irrigation System', 'Duke University Primate Center', 'Dumpster diving', 'Durable good', 'Dust abatement', 'Dustbin', 'Dutch standards', 'E-waste', 'ECOS (BANC magazine)', 'ESA Space Debris Telescope', 'EU-Eco-regulation', 'EU energy label', 'Early uses of petroleum', 'EarthSave', 'Earth Charter', 'Earth Day', 'Earth First!', 'Earth Rights Institute', 'Earth Simulator', 'Earth Summit', 'Earth Summit 2002', 'Earth from the Air', 'Earth house', 'Earth immune system', 'Earth in the Balance', 'Earth observation satellite', 'Earth science', 'Earth sheltering', 'Earthen dam', 'Earthjustice', 'Earthlife Africa', 'Earthwatch Institute', 'Earthweek', 'Eco-capitalist', 'Eco-defense', 'Eco-efficiency', 'Eco-evolution', 'Eco-industrial park', 'Eco-marathon', 'Eco-san', 'Eco-terrorism', 'Eco-warrior', 'EcoAuto', 'EcoDuro', 'EcoQuest', 'Ecocentrism', 'Ecocide', 'Ecocities', 'Ecocomposition', 'Ecocriticism', 'Ecodriving', 'Ecofascism', 'Ecofeminism', 'Ecoforestry', 'Ecohydrology', 'Ecoinformatics', 'Ecolabel', 'Ecological Genetics (book)', 'Ecological Intelligent Design', 'Ecological Society of America', 'Ecological anthropology', 'Ecological burial', 'Ecological crisis', 'Ecological economics', 'Ecological effects of biodiversity', 'Ecological effects of transgenic plants', 'Ecological energetics', 'Ecological engineering', 'Ecological footprint', 'Ecological funeral', 'Ecological genetics', 'Ecological health', 'Ecological humanities', 'Ecological imperialism', 'Ecological land classification', 'Ecological modernization', 'Ecological psychology', 'Ecological sanitation', 'Ecological unit', 'Ecological wisdom', 'Ecology', 'Ecology (journal)', 'Ecology Functional Groups', 'Ecology movement', 'Economic vegetarianism', 'Economics of biodiversity', 'Economics of global warming', 'Ecophagy', 'Ecopsychology', 'Ecoregion', 'Ecoregion conservation status', 'Ecoregions in Australia', 'Ecoregions in India', 'Ecoregions in the Philippines', 'Ecoregions of Japan', 'Ecoregions of Madagascar', 'Ecoregions of New Zealand', 'Ecosophy', 'Ecosphere (education)', 'Ecosystem diversity', 'Ecosystem ecology', 'Ecosystem engineer', 'Ecosystem services', 'Ecosystem valuation', 'Ecotage', 'Ecotage!', 'Ecotax', 'Ecotone', 'Ecotope', 'Ecotopia', 'Ecotourism', 'Ecotoxicology', 'Ecotype', 'Ecovillage', 'Ecovillage Training Center', 'Education for Sustainable Development', 'Effective Cycling', 'Effective population size', 'Effects of global warming', 'Effects of the automobile on societies', 'Efficient energy use', 'Effluent', 'Electric bicycle laws', 'Electrical energy efficiency on United States farms', 'Electricity meter', 'Electromagnetic environment', 'Electromagnetic interference control', 'Electromagnetic radiation', 'Electronic Road Pricing', 'Electronic Waste Recycling Act (disambiguation)', 'Electronic Waste Recycling Fee', 'Electronic pest control', 'Electronic waste', 'Electrosmog', 'Electrostatic precipitator', 'Elephant Sanctuary, Hohenwald', 'Emission Reduction Unit', 'Emission factor', 'Emission standard', 'Emission trading', 'Emissions trading', 'Encyclopedia of World Problems and Human Potential', 'Endangered Australian fauna', 'Endangered Species Act', 'Endangered species', 'Energy-efficient landscaping', 'Energy Action Coalition', 'Energy Information Administration', 'Energy Star', 'Energy and Environmental Research Center', 'Energy conservation', 'Energy conversion', 'Energy demand management', 'Energy economics', 'Energy harvesting', 'Energy intensity', 'Energy management system', 'Energy use and conservation in the United Kingdom', 'English Nature', 'Environment (biophysical)', 'Environment Act 1986', 'Environment Act 1995', 'Environment Agency', 'Environment Canada', 'Environment Hawaii', 'Environment Victoria', 'Environment Wales', 'Environment and Conservation Organisations of Aotearoa New Zealand', 'Environment of China', 'Environmental Campus Birkenfeld', 'Environmental Change Network', 'Environmental Control System', 'Environmental Defense', 'Environmental Impact Report', 'Environmental Information Regulations 2004', 'Environmental Life Force', 'Environmental Measurements Laboratory', 'Environmental Modeling Center', 'Environmental Quality Improvement Act', 'Environmental Risk Management Authority', 'Environmental Sustainability Index', 'Environmental Technology Laboratory', 'Environmental Toxins and Fetal Development', 'Environmental Transport Association', 'Environmental accounting', 'Environmental agreement', 'Environmental archaeology', 'Environmental audits', 'Environmental benefits of vegetarianism', 'Environmental biotechnology', 'Environmental chemistry', 'Environmental concerns with electricity generation', 'Environmental consulting', 'Environmental degradation', 'Environmental design', 'Environmental determinism', 'Environmental disaster', 'Environmental economics', 'Environmental education', 'Environmental effects of fishing', 'Environmental effects on physiology', 'Environmental engineering', 'Environmental ethics', 'Environmental factor', 'Environmental finance', 'Environmental geography', 'Environmental geology', 'Environmental gradient', 'Environmental hazard', 'Environmental health', 'Environmental history', 'Environmental humanities', 'Environmental impact assessment', 'Environmental impact of aviation', 'Environmental impact of fishing', 'Environmental impact of hydraulic fracturing', 'Environmental issues', 'Environmental issues in Australia', 'Environmental issues in Canada', 'Environmental issues in the United States', 'Environmental journalism', 'Environmental justice', 'Environmental law', 'Environmental management', 'Environmental management scheme', 'Environmental medicine', 'Environmental movement', 'Environmental movement in Australia', 'Environmental movement in New Zealand', 'Environmental movement in the United States', 'Environmental policy', 'Environmental protection in Japan', 'Environmental psychology', 'Environmental racism', 'Environmental restoration', 'Environmental science', 'Environmental security', 'Environmental skepticism', 'Environmental social science', 'Environmental sociology', 'Environmental standard', 'Environmental statistics', 'Environmental studies', 'Environmental suit', 'Environmental technology', 'Environmental vandalism', 'Environmental vegetarianism', 'Environmentalism', 'Environmentalist', 'Environmentally Sensitive Area', 'Environmentally Sensitive Areas Scheme', 'Environmentally friendly', 'Envirothon', 'Envisat', 'Epcot', 'Erosion', 'Ethanol', 'Ethanol (data page)', 'Ethical consumerism', 'Ethics of vegetarianism', 'Ethnobiology', 'Ethnobotany', 'Ethylmercury', 'EuroVelo', 'European Remote-Sensing Satellite', 'Eutrophication', 'EverLife Flashlight', 'Exhaust gas', 'Exhaust gas recirculation', 'Exhaust pipe', 'Exotoxin', 'Exploding tree', 'Exploding whale', 'Exploring the Earth and the Cosmos', \"Expo '74\", \"Expo '98\", 'Expo 2000', 'Expo 2005', 'Expo 2008', 'Extensive farming', 'Extinct Australian animals', 'Extinction', 'Exxon Valdez oil spill', 'Eyemouth Disaster', 'Fair Air Association of Canada', 'Fair trade', 'Fallout shelter', 'Fauna and Flora Preservation Society', 'FernGully: The Last Rainforest', 'Fertilizer', 'Fire-stick farming', 'Fish farming', 'Fish ladder', 'Fisheries management', 'Flatulence', 'Flexible-fuel vehicle', 'Flotsam and jetsam', 'Fluorescent lamp recycling', 'Food miles', 'Forest Principles', 'Forest gardening', 'Forestry', 'Fossil fuel', 'Fossil fuel power plant', 'Fossil water', 'Founder effect', 'Founder population', 'Four-minute warning', 'Free-market environmentalism', 'Free-range eggs', 'Free range', 'Free run (farming stewardship)', 'Freecycle Network', 'Fresh Air Fund', 'Fresh Kills Landfill', 'Friends of the Earth, Inc. v. Laidlaw Environmental Services, Inc.', 'Friends of the Earth International', 'Frontier Organic Research Farm Botanical Garden', 'Fuel-efficient', 'Fuel Cell Bus Club', 'Fuel cell', 'Fuel cell bus trial', 'Fuel cell vehicle', 'Fuel efficiency', 'Fuel tax', 'Full Belly Project', 'Full Depth Recycling', 'Full cost accounting', 'Furan', \"Futurama (New York World's Fair)\", 'FutureGen', 'Future energy development', 'Futurewise.org', 'GLOBE Program', 'Gaia Movement', 'Gaia philosophy', 'Gaia theory (science)', 'Gaian Greens', 'Garbology', 'Garden city movement', 'Gas-guzzler', 'Genetic engineering', 'Genetically modified food', 'Genetically modified organism', 'Geneva Protocol', 'Genotoxic', 'Genuine Progress Indicator', 'George W. Bush', 'Geostationary Operational Environmental Satellite', 'German nuclear energy project', 'Ghost net', 'Give-away shop', 'Glass Recycling', 'Glassphalt', 'Gleaning', 'Gley soil', 'Global 200', 'Global 500 Roll of Honour', 'Global Atmosphere Watch', 'Global Biodiversity Information Facility', 'Global Change Research Act', 'Global Climate Coalition', 'Global Climate and Energy Project', 'Global Earth Observing System of Systems (GEOSS)', 'Global Ecolabelling Network', 'Global Ecovillage Network', 'Global Energy Network Institute', 'Global Environment Facility', 'Global Environment Outlook', 'Global Greens', 'Global Greens Charter', 'Global Oceanographic Data Archaeology and Rescue Project', 'Global Temperature-Salinity Profile Program', 'Global alert', 'Global change', 'Global climate', 'Global climate model', 'Global cooling', 'Global dimming', 'Global economic monoculture', 'Global health', 'Global political monoculture', 'Global strategic petroleum reserves', 'Global warming', 'Global warming and agriculture (disambiguation)', 'Global warming controversy', 'Global warming potential', 'Glossary of climate change', 'Gobi Desert', 'Goldman Environmental Prize', 'Great Lakes Commission', 'Great Lakes Environmental Research Laboratory', 'Great Recycling and Northern Development Canal', 'Great Smog of 1952', 'Green Alliance', 'Green Belt Movement', 'Green Building (MIT)', 'Green Gross Domestic Product', 'Green Revolution', 'Green Zionism', 'Green Zionist Alliance', 'Green accounting', 'Green ban', 'Green belt', 'Green belt (United Kingdom)', 'Green building', 'Green certificate', 'Green chemistry', 'Green computing', 'Green consumerism', 'Green design', 'Green economics', 'Green energy', 'Green fertilizer', 'Green lane (road)', 'Green lending', 'Green manure', 'Green money (disambiguation)', 'Green painting', 'Green politics', 'Green roof', 'Green syndicalism', 'Green tags', 'Green tax shift', 'Green technology', 'Green vehicle', 'Greenguard Environmental Institute', 'Greenhouse effect', 'Greenhouse gas', 'Greening Australia', 'Greening Earth Society', 'Greenland ice core project', 'Greenpeace', 'Greenwash', 'Grey goo', 'Greywater', 'Gulf War oil spill', 'HVAC', 'Habitat II', 'Habitat conservation', 'Habitat destruction', 'Habitat fragmentation', 'Haloalkane', 'Handkerchief', 'Hazardous Substances and New Organisms Act', 'Hazardous material', 'Hazardous waste', 'Haze', 'Health and Safety Executive', 'Healthy Forests Initiative', 'Healthy city', 'Heat recovery ventilation', 'Heavy industry', 'Herbicidal warfare', 'Herbicide', 'High-occupancy vehicle', 'Historical ecology', 'History of nuclear weapons', 'Home composting', 'Honey', 'Hot water heat recycling', 'Hubbert peak', 'Hubbert peak theory', 'Human-powered transport', 'Human ecology', 'Human feces', 'Human impact on the environment', 'Human powered vehicle', 'Hunting Act 2004', 'Hydraulic fracturing', 'Hydraulic fracturing by country', 'Hydraulic fracturing in the United States', 'Hydrogen cycle', 'Hydrogen economy', 'Hydrogen highway', 'Hypermobility (travel)', 'Hypoxia (environmental)', 'Idealised population', 'Illegal logging', 'Implications of peak oil', 'In-situ conservation', 'Incineration', 'Index of climate change articles', 'Index of conservation articles', 'Index of pesticide articles', 'Indicator plant', 'Indicator species', 'Industrial Revolution', 'Industrial biotechnology', 'Industrial ecology', 'Industrial hemp', 'Industrial waste', 'Industrial wastewater treatment', 'Institute for Environmental Assessment', 'Institute of Cetacean Research', 'Intact forest landscape', 'Integrated Pest Management', 'Intensive farming', 'Intercropping', 'Intergovernmental Panel on Climate Change', 'International Union for Conservation of Nature', 'Introduced species', 'Invasion biology terminology', 'Invasive plants', 'Invasive species', 'Irrigation', 'Island restoration', 'Jilin chemical plant explosions 2005', 'Kerbside recycling', 'Kyoto Protocol', 'Lactational amenorrhea method', 'Land degradation', 'Land management', 'Land reclamation', 'Land reform', 'Land rehabilitation', 'Land trust', 'Land use', 'Land use forecasting', 'Landfill', 'Law of the Rights of Mother Earth', 'Le Peuple Migrateur', 'Lead paint', 'Lead poisoning', 'Life cycle energy analysis', 'Light pollution', 'Limits to Growth', 'List of conservation issues', 'List of environment research institutes', 'List of environmental issues', 'List of environmental journals', 'List of environmental periodicals', 'List of environmental studies topics', 'List of environmental websites', 'List of extinct birds', 'List of timelines', 'Lists of countries and territories', 'Lists of country-related topics', 'Lists of environmental topics', 'Lithium ion battery', 'Litter', 'Livable Streets', 'Living on Earth', 'Local Nature Reserve', 'Local extinction', 'Local food', 'Locally unwanted land use', 'Logging', 'London Cycling Campaign', 'London commuter belt', 'London congestion charge', 'London sewerage system', 'Long-term Ecosystem Observatory', 'Love Canal', 'Low-carbon economy', 'Low-energy house', 'Low level waste', 'Lowest Achievable Emissions Rate', 'Lysocline', 'MARPOL 73/78', 'Malaysian Nature Society', 'Malthusian catastrophe', 'Malthusianism', 'Manifesto for a Sustainable Society', 'Manufacturing resource planning', 'Marine Nature Reserve', 'Marine Protected Area', 'Marine conservation', 'Marine debris', 'Marine park', 'Marine pollution', 'Marine reserve', 'Marine reserves of New Zealand', 'Maryland Conservation Council', 'Massachusetts Water Resources Authority', 'Medical Waste Tracking Act', 'Medical waste', 'Medieval Warm Period', 'Medieval hunting', 'Megadiverse countries', 'Mercy Mercy Me (The Ecology)', 'Metagenomics', 'Microorganisms', 'Migratory Bird Treaty Act of 1918', 'Millennium Development Goals', 'Millennium Ecosystem Assessment', 'Minamata disease', 'Miscanthus', 'Mitigation of global warming', 'Monoculture', 'Monsanto Canada Inc. v. Schmeiser', 'Monsanto Company', 'Montreal Biodome', 'Montreal Protocol', 'Mother Earth News', 'Mother Nature', 'Motorized bicycle', 'Multiple chemical sensitivity', 'Mutual assured destruction', 'NASA Clean Air Study', 'NASA Earth Observatory', 'NSW Wildlife Information and Rescue Service', 'Nanotechnology', 'Nanotoxicity', 'Nasdaq Biotechnology Index', 'National Ambient Air Quality Standards', 'National Cleanup Day', 'Native Forest Action', 'Native Forest Action Council', 'Native Forest Council', 'Native Forest Restoration Trust', 'Native planting', 'Natural Environment Research Council', 'Natural Resources Canada', 'Natural Resources Conservation Service', 'Natural Resources Defense Council', 'Natural World', 'Natural capital', 'Natural capitalism', 'Natural disaster', 'Natural environment', 'Natural gas', 'Natural history museum', 'Natural landscape', 'Natural phenomenon', 'Natural region', 'Natural resource', 'Nature', \"Nature's Classroom\", 'Nature (TV series)', 'Nature (journal)', 'Nature Clinical Practice Oncology', 'Nature Conservancy Council', 'Nature Heritage Fund', 'Nature Publishing Group', 'Nature Society (Singapore)', 'Nature reserve', 'Naturefriends', 'Naturejobs', 'Natureland Seal Sanctuary', 'Neighborhood electric vehicle', 'Neo-luddism', 'New Jersey', 'New Naturalist', 'New Urbanism', 'New Zealand Ecological Restoration Network', 'New Zealand Nuclear Free Zone, Disarmament, and Arms Control Act 1987', 'New town', 'Newlands Reclamation Act', 'Niagara Falls', 'Night soil', 'Nitrate Vulnerable Zone', 'No-dig gardening', 'No-till farming', 'Noise (environmental)', 'Noise Control Act', 'Noise health effects', 'Noise pollution', 'Non-renewable energy', 'North American Butterfly Association', 'North American Solar Challenge', 'North American smallpox epidemic', 'North Atlantic Marine Mammal Commission', 'North Atlantic Salmon Conservation Organization', 'North China Institute of Water Conservancy and Hydroelectric Power', 'Northern Ireland Environment Agency', 'Northwest Atlantic Fisheries Organization', 'Not in Our Genes', 'Nuclear winter', 'Obsolescence', 'Obsolescence Management', 'Ocean Dumping Act', 'Ocean Dumping Ban Act', 'Ocean colonization', 'Office of the Gene Technology Regulator', 'Ogallala Aquifer', 'Oglala National Grassland', 'Oil desulfurization', 'Oklo', 'Old growth forest', 'Oncomouse', 'One-child policy', 'Ontario Nature', 'Open pollination', 'Operation Crossroads', 'Operation Grapple', 'Operation Plumbbob', 'Orchard', 'Organic certification', 'Organic electronics', 'Organic farming', 'Organic food', 'Organic gardening', 'Organic horticulture', 'Organic lawn management', 'Organic light-emitting diode', 'Organic movement', 'Organochlorine compound', 'Our Common Future', 'Our Posthuman Future', 'Outline of environmental studies', 'Outline of environmentalism', 'Outline of forestry', 'Over-consumption', 'Overpopulation (biology)', 'Oxygen saturation', 'Ozone-oxygen cycle', 'Ozone depletion', 'Ozone depletion potential', 'Ozone layer', 'POP Air Pollution Protocol', 'Pacific Marine Environmental Laboratory', 'Palestinian Environmental NGOs Network', 'Paper shredder', 'Paper towel', 'Paperless office', 'Parametrization (climate)', 'Paraquat', 'Partial Test Ban Treaty', 'Partial zero-emissions vehicle', 'Particle radiation', 'Particulate', 'Passenger pigeon', 'Passive solar', 'Peak grain', 'Peak water', 'Pebble bed reactor', 'People', 'Percy Schmeiser', 'Permaculture', 'Permanent crop', 'Permeable paving', 'Persistent Organic Pollutant', 'Persistent organic pollutants', 'Pest (animal)', 'Pest control', 'Pesticide', 'Pesticide misuse', 'Pesticide poisoning', 'Pesticide side effects', 'Pesticide toxicity to bees', 'Pesticides', 'Phagy', 'Physical phenomena', 'Phytotreatment', 'Pigovian tax', 'Pioneer plant', 'Pioneer species', 'Planetary boundary layer', 'Planetary ecosynthesis', 'Planetary engineering', 'Planetary protection', 'Planned obsolescence', 'Plastic', 'Plastic bullet', 'Plastic goods', 'Plastic mulch', 'Plastic recycling', 'Plastic shopping bag', 'Plastic wrap', 'Poaching', 'Point of no return', 'Political ecology', 'Pollinator decline', 'Pollutant', 'Polluter Pays', 'Polluter pays principle', 'Pollution', 'Polychlorinated biphenyl', 'Polyculture', 'Polymer chemistry', 'Polymer clay', 'Polymer degradation', 'Polymer solar cells', 'Polystyrene', 'Polyvinyl chloride', 'Population', 'Population control', 'Population decline', 'Population density', 'Population growth', 'Population growth rate', 'Population process', 'Population size', 'Population statistics', 'Population transfer', 'Population viability analysis', 'Post-industrial economy', 'Post-industrial society', 'Power station', 'Precautionary principle', 'Preservationist', 'Property and Environment Research Center', 'Protected area', 'Protocol on Environmental Protection to the Antarctic Treaty', 'Pulpwood', 'Quality of life', 'RTECS', 'Rabbit-proof fence', 'Rabbits in Australia', 'Rachel Carson', 'Radiative forcing', 'Radical environmentalism', 'Radio Frequency Interference', 'Radioactive decay', 'Radioactive waste', 'Rain garden', 'Ralph Nader', 'Ramsar Convention', 'Ramsar list of wetlands of international importance', 'RealClimate', 'Rechargeable battery', 'Reclaimed water', 'Reconciliation Ecology', 'Rectenna', 'Recumbent bicycle', 'Recycling', 'Recycling Symbol', 'Recycling of PET Bottles', 'Red panda', 'Red tide', 'Reducing environment', 'Refined resource', 'Reforestation', 'Refrigerant', 'Refurbishment (disambiguation)', 'Regenerative (design)', 'Regenerative fuel cell', 'Registration, Evaluation and Authorization of Chemicals', 'Remanufacturing', 'Renewable and Appropriate Energy Laboratory', 'Renewable energy', 'Renewable energy commercialization', 'Renewable energy development', 'Renewable resource', 'Renovation', 'Repair and maintenance', 'Research Natural Area', 'Residual fuel', 'Resin identification code', 'Resource', 'Resource Conservation and Recovery Act', 'Resource Management Act 1991', 'Resource curse', 'Resource depletion', 'Resource economics', 'Resource extraction', 'Resource rent', 'Restoration ecology', 'Restricted use pesticides', 'Restriction of Hazardous Substances Directive', 'Resurrection ecology', 'Reuse', 'Right of public access to the wilderness', 'Rimini protocol', 'Rio Declaration on Environment and Development', 'Road pricing', 'Road verge', 'Roads Beautifying Association', 'Roads to Resources Program', 'Rock (geology)', 'Roof garden', 'Royal Society of Wildlife Trusts', 'Runoff (water)', 'Rush hour', 'Río Plátano Biosphere Reserve', 'Saline seep', 'Salinity in Australia', 'Salting the earth', 'Satellite', 'School of Environmental Studies (disambiguation)', 'Science & Environmental Policy Project', 'Scientific Committee on Problems of the Environment', 'Scientific opinion on climate change', 'Scorched earth', 'Sea Shepherd Conservation Society', 'Sea level rise', 'Seasonal thermal energy storage', 'Secretary of State for Environment, Food and Rural Affairs', 'Set-aside', 'Seven-generation sustainability', 'Sewage', 'Sewage collection and disposal', 'Sewage treatment', 'Shark culling', 'Shark finning', 'Shark net', 'Ship-Submarine recycling program', 'Siberian natural resources', 'Sierra Club', 'Sierra Club of/du Canada', 'Skyglow', 'Slag', 'Slash and burn', 'Slow Food', 'Small Is Beautiful', 'Small population size', 'Smithsonian Environmental Research Center', 'Smithsonian Tropical Research Institute', 'Smog', 'Soil', 'Soil acidification', 'Soil contamination', 'Soil erosion', 'Solar power', 'Souterrain', 'South Carolina Department of Health and Environmental Control', 'South Maury Island environmental issues', 'Space Environment', 'Space Environment Center', 'Space debris', 'Special Area of Conservation', 'Special Protection Area', 'Special report on emissions scenarios', 'State University of New York College of Environmental Science and Forestry', 'Stewardship (theology)', 'Strategic Environmental Assessment', 'Strict nature reserves of Finland', 'Student Conservation Association', 'Student Environmental Action Coalition', 'Study of Environmental Arctic Change', 'Submarine', 'Suction dredger', 'Sudden ionospheric disturbance', 'Sudden stratospheric warming', 'Superfund', 'Supertanker', 'Sustainability', 'Sustainable agriculture', 'Sustainable design', 'Sustainable gardening', 'Sustainable landscape architecture', 'Sustainable landscaping', 'Sustainable living', 'Systemic pesticide', 'Systems science', 'TEMPEST', 'TERON (Tillage erosion)', \"Taejon Expo '93\", 'Taiga', 'Tailings', 'Tanker (ship)', 'Tanzania wildlife research institute', 'Teflon', 'Temperature extreme', 'Temperature record of the past 1000 years', 'Terminator Technology', 'Terraforming', 'Tetraethyllead', 'Texas', 'The Blue Marble', 'The China Syndrome', 'The Global 2000 Report to the President', 'The Nature Conservancy', 'The Nature of Things', 'The Skeptical Environmentalist', 'The Sponge Reef Project', 'Thermal pollution', 'Thermal radiation', 'Thermal reactor', 'Thorp nuclear fuel reprocessing plant', 'Threatened fauna of Australia', 'Three Mile Island accident', 'Tigris-Euphrates river system', 'Timeline of the New Zealand environment', 'Topocide', 'Toxic Substances Control Act', 'Toxic waste', 'Toxics use reduction', 'Trade war over genetically modified food', 'Traffic congestion', 'Transgenic animals', 'Transgenic maize', 'Transgenic organism', 'Transgenic plants', 'Trash-to-energy plant', 'Treated lumber', 'Treaty for the Prohibition of Nuclear Weapons in Latin America and the Caribbean', 'Treaty of Paris (disambiguation)', 'Treaty of Versailles', 'Tree conservation areas in Singapore', 'Tree pinning', 'Tree spiking', 'Tributyltin', 'Tricycle', 'Tropical Ocean-Global Atmosphere program', 'Tropical Rainfall Measuring Mission', 'Tropical Rainforest Heritage of Sumatra', 'Tropical marine climate', 'UK fuel protests', 'UK sites recognised for their biodiversity conservation importance', 'UN World Environment Day', 'UN decade on water', 'Unburned hydrocarbon', 'Unified neutral theory of biodiversity', 'Urban agriculture', 'Urban biosphere reserve', 'Urban ecology', 'Urban heat island', 'Urban planning', 'Urban renewal', 'Urban sprawl', 'Value of life', 'Vegan organic gardening', 'Vegetation', 'Vehicle', 'Vermicompost', 'Vienna Convention on Road Traffic', 'Village green', 'Voluntary simplicity', 'WILD Foundation', 'Waste', 'Waste (law)', 'Waste management', 'Waste vegetable oil', 'Wastewater', 'Water', 'Water-wise gardening', 'Water Fluoridation controversy', 'Water conservation', 'Water contamination', 'Water dispute', 'Water pollution', 'Water privatization', 'Water purification', 'Water quality', 'Water resources', 'Waterborne disease', 'Waterway restoration', 'Wave power', 'Weed control', 'Weedy species', 'Wetlands', 'Wetlands International', 'Wetlands conservation', 'Whaling', 'Wilderness', 'Wilderness area', 'Wildlife corridor', 'Wildlife garden', 'Wildlife refuge', 'Wildlife trade', 'Wind energy', 'Wind farm', 'Wind power', 'Wind turbine', 'Wise use', \"World's Most Livable Cities\", 'World3', 'World Cleanup Day', 'World Climate Change Conference', 'World Climate Conference', 'World Climate Programme', 'World Climate Report', 'World Day for Water', 'World Summit on Sustainable Development', 'World population', 'World solar challenge', 'Xeriscaping', 'Year of the Dolphin', 'Zero-emissions vehicle', 'Zero emission', 'Zero population growth', 'Zero waste', 'Zoo', 'Zoos of the world']\n"
          ]
        }
      ]
    },
    {
      "cell_type": "markdown",
      "source": [
        "## Now construct the dataset: loop over article titles, grab the content, store in a dict. (20-30 minutes)"
      ],
      "metadata": {
        "id": "49z-K1p6epS0"
      }
    },
    {
      "cell_type": "code",
      "source": [
        "# now construct the dataset: loop over titles, save dict in json file\n",
        "from tqdm import tqdm\n",
        "\n",
        "failed_titles = []\n",
        "corpus = {}\n",
        "for title in tqdm(article_titles):\n",
        "  try:\n",
        "    corpus[title] = wikipedia.page(title, auto_suggest=False).content # error fix: https://github.com/goldsmith/Wikipedia/issues/192#issuecomment-579850850\n",
        "  except:\n",
        "    failed_titles.append(title)\n",
        "\n",
        "print(\"\\nDone! Failed titles:\", failed_titles)\n",
        "print(\"Corpus Length:\", len(corpus))"
      ],
      "metadata": {
        "colab": {
          "base_uri": "https://localhost:8080/"
        },
        "id": "YYhkT2zwtN5H",
        "outputId": "2446faf9-fc7d-405b-a578-3df537019a04"
      },
      "execution_count": null,
      "outputs": [
        {
          "output_type": "stream",
          "name": "stderr",
          "text": [
            " 14%|█▍        | 201/1408 [01:07<05:31,  3.64it/s]/usr/local/lib/python3.7/dist-packages/wikipedia/wikipedia.py:389: UserWarning: No parser was explicitly specified, so I'm using the best available HTML parser for this system (\"lxml\"). This usually isn't a problem, but if you run this code on another system, or in a different virtual environment, it may use a different parser and behave differently.\n",
            "\n",
            "The code that caused this warning is on line 389 of the file /usr/local/lib/python3.7/dist-packages/wikipedia/wikipedia.py. To get rid of this warning, pass the additional argument 'features=\"lxml\"' to the BeautifulSoup constructor.\n",
            "\n",
            "  lis = BeautifulSoup(html).find_all('li')\n",
            "100%|██████████| 1408/1408 [05:44<00:00,  4.09it/s]"
          ]
        },
        {
          "output_type": "stream",
          "name": "stdout",
          "text": [
            "\n",
            "Done! Failed titles: ['Biosecurity protocol', 'Clean Air Act (disambiguation)', 'Conservation park (disambiguation)', 'Electronic Waste Recycling Act (disambiguation)', 'Global warming and agriculture (disambiguation)', 'Green money (disambiguation)', 'Native Forest Council', \"Nature's Classroom\", 'Refurbishment (disambiguation)', 'School of Environmental Studies (disambiguation)', 'Treaty of Paris (disambiguation)']\n",
            "Corpus Length: 1397\n"
          ]
        },
        {
          "output_type": "stream",
          "name": "stderr",
          "text": [
            "\n"
          ]
        }
      ]
    },
    {
      "cell_type": "code",
      "source": [
        "# save to a json file\n",
        "import json\n",
        "with open('/content/drive/MyDrive/Colab Notebooks/wikipedia_environmental_articles.json', 'w', encoding='utf-8') as f:\n",
        "  json.dump(corpus, f, indent=4)"
      ],
      "metadata": {
        "id": "mHzDnBBb1KFk"
      },
      "execution_count": null,
      "outputs": []
    },
    {
      "cell_type": "code",
      "source": [
        "# save as individual .txt files in a new directory\n",
        "import os\n",
        "new_dir_path = '/content/drive/MyDrive/Colab Notebooks/Wiki_Env_Articles/'\n",
        "os.makedirs(new_dir_path, exist_ok=True)\n",
        "\n",
        "import json\n",
        "with open('/content/drive/MyDrive/Colab Notebooks/wikipedia_environmental_articles.json', 'r', encoding='utf-8') as f:\n",
        "  docs = json.load(f)\n",
        "  for title, content in docs.items():\n",
        "    with open(new_dir_path+title.replace(\" \", \"_\").replace(\"/\", \"_\")+'.txt', 'w', encoding='utf-8') as outfile:\n",
        "      outfile.write(content)\n",
        "print(\"done.\")"
      ],
      "metadata": {
        "colab": {
          "base_uri": "https://localhost:8080/"
        },
        "id": "7PoA39GbWffi",
        "outputId": "5670d37a-7c9e-4898-d1dd-1d3149205acc"
      },
      "execution_count": 38,
      "outputs": [
        {
          "output_type": "stream",
          "name": "stdout",
          "text": [
            "done.\n"
          ]
        }
      ]
    }
  ]
}